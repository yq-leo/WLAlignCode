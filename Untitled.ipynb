{
 "cells": [
  {
   "cell_type": "code",
   "execution_count": 1,
   "id": "b6a90753-cc43-40a3-bb0b-88d696042573",
   "metadata": {},
   "outputs": [],
   "source": [
    "import numpy as np"
   ]
  },
  {
   "cell_type": "code",
   "execution_count": 3,
   "id": "c36f2c9f-463f-4799-b10f-7f1bcf99cae8",
   "metadata": {},
   "outputs": [],
   "source": [
    "path = f\"data/phone-email/phone/embedding/emb_s20x.number2.number_T\""
   ]
  },
  {
   "cell_type": "code",
   "execution_count": 4,
   "id": "ed34d5b7-f06f-4a5d-86b9-41646bacdd07",
   "metadata": {},
   "outputs": [
    {
     "name": "stdout",
     "output_type": "stream",
     "text": [
      "<_io.TextIOWrapper name='data/phone-email/phone/embedding/emb_s20x.number2.number_T' mode='r' encoding='UTF-8'>\n"
     ]
    }
   ],
   "source": [
    "with open(path, 'r') as f:\n",
    "    print(f)"
   ]
  }
 ],
 "metadata": {
  "kernelspec": {
   "display_name": "Python 3 (ipykernel)",
   "language": "python",
   "name": "python3"
  },
  "language_info": {
   "codemirror_mode": {
    "name": "ipython",
    "version": 3
   },
   "file_extension": ".py",
   "mimetype": "text/x-python",
   "name": "python",
   "nbconvert_exporter": "python",
   "pygments_lexer": "ipython3",
   "version": "3.9.6"
  }
 },
 "nbformat": 4,
 "nbformat_minor": 5
}
